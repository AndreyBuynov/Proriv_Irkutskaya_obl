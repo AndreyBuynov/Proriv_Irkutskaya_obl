{
 "cells": [
  {
   "cell_type": "code",
   "execution_count": 1,
   "id": "technical-canberra",
   "metadata": {},
   "outputs": [],
   "source": [
    "from imutils.video import VideoStream\n",
    "from imutils.video import FPS\n",
    "import numpy as np\n",
    "import imutils\n",
    "import time\n",
    "import cv2\n",
    "import matplotlib.pyplot as plt \n",
    "import pandas as pd\n",
    "import seaborn as sns\n",
    "import matplotlib.pyplot as plt\n",
    "import torch\n",
    "import easyocr"
   ]
  },
  {
   "cell_type": "code",
   "execution_count": 2,
   "id": "fleet-ownership",
   "metadata": {},
   "outputs": [],
   "source": [
    "reader = easyocr.Reader(['en'])"
   ]
  },
  {
   "cell_type": "code",
   "execution_count": 5,
   "id": "understanding-compound",
   "metadata": {},
   "outputs": [
    {
     "data": {
      "text/html": [
       "<div>\n",
       "<style scoped>\n",
       "    .dataframe tbody tr th:only-of-type {\n",
       "        vertical-align: middle;\n",
       "    }\n",
       "\n",
       "    .dataframe tbody tr th {\n",
       "        vertical-align: top;\n",
       "    }\n",
       "\n",
       "    .dataframe thead th {\n",
       "        text-align: right;\n",
       "    }\n",
       "</style>\n",
       "<table border=\"1\" class=\"dataframe\">\n",
       "  <thead>\n",
       "    <tr style=\"text-align: right;\">\n",
       "      <th></th>\n",
       "      <th>id</th>\n",
       "      <th>date</th>\n",
       "      <th>employee</th>\n",
       "      <th>action</th>\n",
       "    </tr>\n",
       "  </thead>\n",
       "  <tbody>\n",
       "    <tr>\n",
       "      <th>0</th>\n",
       "      <td>1256</td>\n",
       "      <td>2022-05-24 08:08:36</td>\n",
       "      <td>2</td>\n",
       "      <td>15.0</td>\n",
       "    </tr>\n",
       "    <tr>\n",
       "      <th>1</th>\n",
       "      <td>1257</td>\n",
       "      <td>2022-05-24 08:08:37</td>\n",
       "      <td>2</td>\n",
       "      <td>4.0</td>\n",
       "    </tr>\n",
       "    <tr>\n",
       "      <th>2</th>\n",
       "      <td>1258</td>\n",
       "      <td>2022-05-24 08:12:13</td>\n",
       "      <td>3</td>\n",
       "      <td>15.0</td>\n",
       "    </tr>\n",
       "    <tr>\n",
       "      <th>3</th>\n",
       "      <td>1259</td>\n",
       "      <td>2022-05-24 08:12:25</td>\n",
       "      <td>3</td>\n",
       "      <td>2.0</td>\n",
       "    </tr>\n",
       "    <tr>\n",
       "      <th>4</th>\n",
       "      <td>1260</td>\n",
       "      <td>2022-05-24 08:12:42</td>\n",
       "      <td>3</td>\n",
       "      <td>12.0</td>\n",
       "    </tr>\n",
       "    <tr>\n",
       "      <th>...</th>\n",
       "      <td>...</td>\n",
       "      <td>...</td>\n",
       "      <td>...</td>\n",
       "      <td>...</td>\n",
       "    </tr>\n",
       "    <tr>\n",
       "      <th>3514</th>\n",
       "      <td>4770</td>\n",
       "      <td>2022-05-28 07:42:51</td>\n",
       "      <td>0</td>\n",
       "      <td>4.0</td>\n",
       "    </tr>\n",
       "    <tr>\n",
       "      <th>3515</th>\n",
       "      <td>4771</td>\n",
       "      <td>2022-05-28 07:44:27</td>\n",
       "      <td>0</td>\n",
       "      <td>14.0</td>\n",
       "    </tr>\n",
       "    <tr>\n",
       "      <th>3516</th>\n",
       "      <td>4772</td>\n",
       "      <td>2022-05-28 07:44:36</td>\n",
       "      <td>0</td>\n",
       "      <td>3.0</td>\n",
       "    </tr>\n",
       "    <tr>\n",
       "      <th>3517</th>\n",
       "      <td>4773</td>\n",
       "      <td>2022-05-28 07:46:21</td>\n",
       "      <td>0</td>\n",
       "      <td>13.0</td>\n",
       "    </tr>\n",
       "    <tr>\n",
       "      <th>3518</th>\n",
       "      <td>4774</td>\n",
       "      <td>2022-05-28 07:46:31</td>\n",
       "      <td>0</td>\n",
       "      <td>4.0</td>\n",
       "    </tr>\n",
       "  </tbody>\n",
       "</table>\n",
       "<p>3519 rows × 4 columns</p>\n",
       "</div>"
      ],
      "text/plain": [
       "        id                 date  employee  action\n",
       "0     1256  2022-05-24 08:08:36         2    15.0\n",
       "1     1257  2022-05-24 08:08:37         2     4.0\n",
       "2     1258  2022-05-24 08:12:13         3    15.0\n",
       "3     1259  2022-05-24 08:12:25         3     2.0\n",
       "4     1260  2022-05-24 08:12:42         3    12.0\n",
       "...    ...                  ...       ...     ...\n",
       "3514  4770  2022-05-28 07:42:51         0     4.0\n",
       "3515  4771  2022-05-28 07:44:27         0    14.0\n",
       "3516  4772  2022-05-28 07:44:36         0     3.0\n",
       "3517  4773  2022-05-28 07:46:21         0    13.0\n",
       "3518  4774  2022-05-28 07:46:31         0     4.0\n",
       "\n",
       "[3519 rows x 4 columns]"
      ]
     },
     "execution_count": 5,
     "metadata": {},
     "output_type": "execute_result"
    }
   ],
   "source": [
    "train = pd.read_csv('train/train.csv')\n",
    "train"
   ]
  },
  {
   "cell_type": "code",
   "execution_count": 5,
   "id": "southwest-breeding",
   "metadata": {},
   "outputs": [
    {
     "data": {
      "text/plain": [
       "[0, 1, 2, 3, 4, 5, 6, 7, 8, 10, 11]"
      ]
     },
     "execution_count": 5,
     "metadata": {},
     "output_type": "execute_result"
    }
   ],
   "source": [
    "sorted(train.employee.unique())"
   ]
  },
  {
   "cell_type": "code",
   "execution_count": 6,
   "id": "nuclear-mexico",
   "metadata": {},
   "outputs": [
    {
     "data": {
      "text/plain": [
       "[0.0,\n",
       " 1.0,\n",
       " 2.0,\n",
       " 3.0,\n",
       " 4.0,\n",
       " 5.0,\n",
       " 6.0,\n",
       " 8.0,\n",
       " 9.0,\n",
       " 10.0,\n",
       " 11.0,\n",
       " 12.0,\n",
       " 13.0,\n",
       " 14.0,\n",
       " 15.0,\n",
       " 16.0,\n",
       " 18.0,\n",
       " 19.0]"
      ]
     },
     "execution_count": 6,
     "metadata": {},
     "output_type": "execute_result"
    }
   ],
   "source": [
    "sorted(train.action.unique())"
   ]
  },
  {
   "cell_type": "code",
   "execution_count": 248,
   "id": "backed-aerospace",
   "metadata": {},
   "outputs": [],
   "source": [
    "vs = cv2.VideoCapture(\"train/train2.avi\")"
   ]
  },
  {
   "cell_type": "code",
   "execution_count": 249,
   "id": "manual-exhibition",
   "metadata": {},
   "outputs": [
    {
     "name": "stderr",
     "output_type": "stream",
     "text": [
      "<ipython-input-249-403c74007527>:4: UserWarning: Matplotlib is currently using agg, which is a non-GUI backend, so cannot show the figure.\n",
      "  plt.show()\n"
     ]
    },
    {
     "data": {
      "image/png": "[encoded data removed]",
      "text/plain": [
       "<Figure size 432x288 with 1 Axes>"
      ]
     },
     "metadata": {
      "needs_background": "light"
     },
     "output_type": "display_data"
    }
   ],
   "source": [
    "ret, frame = vs.read()\n",
    "\n",
    "plt.imshow(cv2.cvtColor(frame, cv2.COLOR_BGR2RGB))\n",
    "plt.show()"
   ]
  },
  {
   "cell_type": "code",
   "execution_count": 259,
   "id": "prompt-project",
   "metadata": {},
   "outputs": [
    {
     "data": {
      "image/png": "[encoded data removed]",
      "text/plain": [
       "<Figure size 432x288 with 1 Axes>"
      ]
     },
     "metadata": {
      "needs_background": "light"
     },
     "output_type": "display_data"
    }
   ],
   "source": [
    "img = frame[900:1060,250:500,:]\n",
    "plt.imshow(cv2.cvtColor(img, cv2.COLOR_BGR2RGB));"
   ]
  },
  {
   "cell_type": "code",
   "execution_count": null,
   "id": "square-sullivan",
   "metadata": {},
   "outputs": [],
   "source": [
    "img = frame[900:1060,250:500,:]\n",
    "plt.imshow(cv2.cvtColor(img, cv2.COLOR_BGR2RGB));"
   ]
  },
  {
   "cell_type": "code",
   "execution_count": null,
   "id": "quarterly-internship",
   "metadata": {},
   "outputs": [],
   "source": [
    "1.2 1.02"
   ]
  },
  {
   "cell_type": "code",
   "execution_count": 264,
   "id": "polished-favorite",
   "metadata": {},
   "outputs": [
    {
     "data": {
      "image/png": "[encoded data removed]",
      "text/plain": [
       "<Figure size 432x288 with 1 Axes>"
      ]
     },
     "metadata": {
      "needs_background": "light"
     },
     "output_type": "display_data"
    }
   ],
   "source": [
    "img = frame[int(h/1.15):int(h/1.02),250:500,:]\n",
    "plt.imshow(cv2.cvtColor(img, cv2.COLOR_BGR2RGB));"
   ]
  },
  {
   "cell_type": "code",
   "execution_count": 250,
   "id": "appropriate-marker",
   "metadata": {},
   "outputs": [
    {
     "data": {
      "text/plain": [
       "60.0"
      ]
     },
     "execution_count": 250,
     "metadata": {},
     "output_type": "execute_result"
    }
   ],
   "source": [
    "fps = vs.get(cv2.CAP_PROP_FPS)\n",
    "fps"
   ]
  },
  {
   "cell_type": "code",
   "execution_count": 251,
   "id": "charitable-siemens",
   "metadata": {},
   "outputs": [],
   "source": [
    "h, w, c = frame.shape"
   ]
  },
  {
   "cell_type": "code",
   "execution_count": 252,
   "id": "assumed-effect",
   "metadata": {},
   "outputs": [
    {
     "data": {
      "text/plain": [
       "(1080, 1920, 3)"
      ]
     },
     "execution_count": 252,
     "metadata": {},
     "output_type": "execute_result"
    }
   ],
   "source": [
    "h, w, c"
   ]
  },
  {
   "cell_type": "code",
   "execution_count": 238,
   "id": "private-lingerie",
   "metadata": {},
   "outputs": [],
   "source": [
    "img = frame[h//20:h//9,:w//3,:]"
   ]
  },
  {
   "cell_type": "code",
   "execution_count": 239,
   "id": "proved-thermal",
   "metadata": {},
   "outputs": [
    {
     "name": "stderr",
     "output_type": "stream",
     "text": [
      "<ipython-input-239-afa3ecd0aedd>:2: UserWarning: Matplotlib is currently using agg, which is a non-GUI backend, so cannot show the figure.\n",
      "  plt.show()\n"
     ]
    },
    {
     "data": {
      "image/png": "[encoded data removed]",
      "text/plain": [
       "<Figure size 432x288 with 1 Axes>"
      ]
     },
     "metadata": {
      "needs_background": "light"
     },
     "output_type": "display_data"
    }
   ],
   "source": [
    "plt.imshow(cv2.cvtColor(img, cv2.COLOR_BGR2RGB))\n",
    "plt.show()"
   ]
  },
  {
   "cell_type": "code",
   "execution_count": 101,
   "id": "fluid-discrimination",
   "metadata": {},
   "outputs": [
    {
     "data": {
      "text/plain": [
       "['05-24-Z022', 'Tue 08:08 :37']"
      ]
     },
     "execution_count": 101,
     "metadata": {},
     "output_type": "execute_result"
    }
   ],
   "source": [
    "result = reader.readtext(img, detail=0)\n",
    "result"
   ]
  },
  {
   "cell_type": "code",
   "execution_count": 142,
   "id": "north-acting",
   "metadata": {},
   "outputs": [
    {
     "data": {
      "text/plain": [
       "'2022-24-05 08:08:37'"
      ]
     },
     "execution_count": 142,
     "metadata": {},
     "output_type": "execute_result"
    }
   ],
   "source": [
    "clean_date(result)"
   ]
  },
  {
   "cell_type": "code",
   "execution_count": 76,
   "id": "dense-vietnam",
   "metadata": {},
   "outputs": [
    {
     "data": {
      "text/plain": [
       "'05-24-Z022'"
      ]
     },
     "execution_count": 76,
     "metadata": {},
     "output_type": "execute_result"
    }
   ],
   "source": [
    "result[0][1]"
   ]
  },
  {
   "cell_type": "code",
   "execution_count": 54,
   "id": "reported-packing",
   "metadata": {},
   "outputs": [
    {
     "name": "stderr",
     "output_type": "stream",
     "text": [
      "Using cache found in /home/andrey/.cache/torch/hub/ultralytics_yolov5_master\n",
      "YOLOv5 🚀 2022-8-31 Python-3.9.2 torch-1.11.0+cu102 CUDA:0 (NVIDIA GeForce GTX 1050 Ti, 4040MiB)\n",
      "\n",
      "Downloading https://github.com/ultralytics/yolov5/releases/download/v6.2/yolov5l6.pt to yolov5l6.pt...\n"
     ]
    },
    {
     "data": {
      "application/vnd.jupyter.widget-view+json": {
       "model_id": "b3d2a6c1e3ba454e960dd6858bc48842",
       "version_major": 2,
       "version_minor": 0
      },
      "text/plain": [
       "  0%|          | 0.00/147M [00:00<?, ?B/s]"
      ]
     },
     "metadata": {},
     "output_type": "display_data"
    },
    {
     "name": "stderr",
     "output_type": "stream",
     "text": [
      "\n",
      "Fusing layers... \n",
      "YOLOv5l6 summary: 476 layers, 76726332 parameters, 0 gradients\n",
      "Adding AutoShape... \n"
     ]
    }
   ],
   "source": [
    "# Model\n",
    "model = torch.hub.load('ultralytics/yolov5', 'yolov5l6')  # or yolov5n - yolov5x6, custom"
   ]
  },
  {
   "cell_type": "code",
   "execution_count": 93,
   "id": "distant-sullivan",
   "metadata": {},
   "outputs": [],
   "source": [
    "image = frame.copy()"
   ]
  },
  {
   "cell_type": "code",
   "execution_count": 94,
   "id": "detected-netherlands",
   "metadata": {},
   "outputs": [
    {
     "name": "stdout",
     "output_type": "stream",
     "text": [
      "image 1/1: 1920x2560 1 person, 1 chair, 2 potted plants\n",
      "Speed: 9.9ms pre-process, 77.1ms inference, 3.1ms NMS per image at shape (1, 3, 512, 640)\n"
     ]
    }
   ],
   "source": [
    "# Images\n",
    "# img = 'https://ultralytics.com/images/zidane.jpg'  # or file, Path, PIL, OpenCV, numpy, list\n",
    "\n",
    "# Inference\n",
    "results = model(frame)\n",
    "\n",
    "# Results\n",
    "results.print()  # or .show(), .save(), .crop(), .pandas(), etc."
   ]
  },
  {
   "cell_type": "code",
   "execution_count": 95,
   "id": "micro-nerve",
   "metadata": {},
   "outputs": [],
   "source": [
    "results.show()"
   ]
  },
  {
   "cell_type": "code",
   "execution_count": 96,
   "id": "conceptual-stylus",
   "metadata": {},
   "outputs": [],
   "source": [
    "df = results.pandas().xyxy"
   ]
  },
  {
   "cell_type": "code",
   "execution_count": 97,
   "id": "palestinian-consequence",
   "metadata": {},
   "outputs": [],
   "source": [
    "df = df[0]"
   ]
  },
  {
   "cell_type": "code",
   "execution_count": 160,
   "id": "excellent-deputy",
   "metadata": {},
   "outputs": [
    {
     "data": {
      "text/html": [
       "<div>\n",
       "<style scoped>\n",
       "    .dataframe tbody tr th:only-of-type {\n",
       "        vertical-align: middle;\n",
       "    }\n",
       "\n",
       "    .dataframe tbody tr th {\n",
       "        vertical-align: top;\n",
       "    }\n",
       "\n",
       "    .dataframe thead th {\n",
       "        text-align: right;\n",
       "    }\n",
       "</style>\n",
       "<table border=\"1\" class=\"dataframe\">\n",
       "  <thead>\n",
       "    <tr style=\"text-align: right;\">\n",
       "      <th></th>\n",
       "      <th>xmin</th>\n",
       "      <th>ymin</th>\n",
       "      <th>xmax</th>\n",
       "      <th>ymax</th>\n",
       "      <th>confidence</th>\n",
       "      <th>class</th>\n",
       "      <th>name</th>\n",
       "    </tr>\n",
       "  </thead>\n",
       "  <tbody>\n",
       "    <tr>\n",
       "      <th>0</th>\n",
       "      <td>1181.596069</td>\n",
       "      <td>684.781006</td>\n",
       "      <td>1316.795532</td>\n",
       "      <td>1211.582275</td>\n",
       "      <td>0.832024</td>\n",
       "      <td>0</td>\n",
       "      <td>person</td>\n",
       "    </tr>\n",
       "    <tr>\n",
       "      <th>1</th>\n",
       "      <td>1291.521973</td>\n",
       "      <td>644.816406</td>\n",
       "      <td>1413.466797</td>\n",
       "      <td>1172.419922</td>\n",
       "      <td>0.796255</td>\n",
       "      <td>0</td>\n",
       "      <td>person</td>\n",
       "    </tr>\n",
       "    <tr>\n",
       "      <th>2</th>\n",
       "      <td>219.634323</td>\n",
       "      <td>1593.199951</td>\n",
       "      <td>447.998657</td>\n",
       "      <td>1917.208008</td>\n",
       "      <td>0.551723</td>\n",
       "      <td>58</td>\n",
       "      <td>potted plant</td>\n",
       "    </tr>\n",
       "  </tbody>\n",
       "</table>\n",
       "</div>"
      ],
      "text/plain": [
       "          xmin         ymin         xmax         ymax  confidence  class  \\\n",
       "0  1181.596069   684.781006  1316.795532  1211.582275    0.832024      0   \n",
       "1  1291.521973   644.816406  1413.466797  1172.419922    0.796255      0   \n",
       "2   219.634323  1593.199951   447.998657  1917.208008    0.551723     58   \n",
       "\n",
       "           name  \n",
       "0        person  \n",
       "1        person  \n",
       "2  potted plant  "
      ]
     },
     "execution_count": 160,
     "metadata": {},
     "output_type": "execute_result"
    }
   ],
   "source": [
    "df"
   ]
  },
  {
   "cell_type": "code",
   "execution_count": 168,
   "id": "funky-sperm",
   "metadata": {},
   "outputs": [
    {
     "data": {
      "text/html": [
       "<div>\n",
       "<style scoped>\n",
       "    .dataframe tbody tr th:only-of-type {\n",
       "        vertical-align: middle;\n",
       "    }\n",
       "\n",
       "    .dataframe tbody tr th {\n",
       "        vertical-align: top;\n",
       "    }\n",
       "\n",
       "    .dataframe thead th {\n",
       "        text-align: right;\n",
       "    }\n",
       "</style>\n",
       "<table border=\"1\" class=\"dataframe\">\n",
       "  <thead>\n",
       "    <tr style=\"text-align: right;\">\n",
       "      <th></th>\n",
       "      <th>xmin</th>\n",
       "      <th>ymin</th>\n",
       "      <th>xmax</th>\n",
       "      <th>ymax</th>\n",
       "      <th>confidence</th>\n",
       "      <th>class</th>\n",
       "      <th>name</th>\n",
       "    </tr>\n",
       "  </thead>\n",
       "  <tbody>\n",
       "    <tr>\n",
       "      <th>0</th>\n",
       "      <td>1181.596069</td>\n",
       "      <td>684.781006</td>\n",
       "      <td>1316.795532</td>\n",
       "      <td>1211.582275</td>\n",
       "      <td>0.832024</td>\n",
       "      <td>0</td>\n",
       "      <td>person</td>\n",
       "    </tr>\n",
       "    <tr>\n",
       "      <th>1</th>\n",
       "      <td>1291.521973</td>\n",
       "      <td>644.816406</td>\n",
       "      <td>1413.466797</td>\n",
       "      <td>1172.419922</td>\n",
       "      <td>0.796255</td>\n",
       "      <td>0</td>\n",
       "      <td>person</td>\n",
       "    </tr>\n",
       "  </tbody>\n",
       "</table>\n",
       "</div>"
      ],
      "text/plain": [
       "          xmin        ymin         xmax         ymax  confidence  class  \\\n",
       "0  1181.596069  684.781006  1316.795532  1211.582275    0.832024      0   \n",
       "1  1291.521973  644.816406  1413.466797  1172.419922    0.796255      0   \n",
       "\n",
       "     name  \n",
       "0  person  \n",
       "1  person  "
      ]
     },
     "execution_count": 168,
     "metadata": {},
     "output_type": "execute_result"
    }
   ],
   "source": [
    "df[df['name'] == 'person']"
   ]
  },
  {
   "cell_type": "code",
   "execution_count": 171,
   "id": "historical-retention",
   "metadata": {},
   "outputs": [
    {
     "name": "stdout",
     "output_type": "stream",
     "text": [
      "[1181.5960693359375 684.781005859375 1316.7955322265625 1211.582275390625 0.8320244550704956 0 'person']\n",
      "[1291.52197265625 644.81640625 1413.466796875 1172.419921875 0.7962549328804016 0 'person']\n"
     ]
    }
   ],
   "source": [
    "for item in df[df['name'] == 'person'].values:\n",
    "    print(item)"
   ]
  },
  {
   "cell_type": "code",
   "execution_count": 111,
   "id": "stuck-monkey",
   "metadata": {},
   "outputs": [
    {
     "data": {
      "text/plain": [
       "1652"
      ]
     },
     "execution_count": 111,
     "metadata": {},
     "output_type": "execute_result"
    }
   ],
   "source": [
    "int(1652.5836181640625)"
   ]
  },
  {
   "cell_type": "code",
   "execution_count": 116,
   "id": "radical-jacob",
   "metadata": {},
   "outputs": [
    {
     "data": {
      "image/png": "[encoded data removed]",
      "text/plain": [
       "<Figure size 432x288 with 1 Axes>"
      ]
     },
     "metadata": {
      "needs_background": "light"
     },
     "output_type": "display_data"
    }
   ],
   "source": [
    "plt.imshow(cv2.cvtColor(image[468:585,1652:1689,:], cv2.COLOR_BGR2RGB));\n",
    "#plt.show()"
   ]
  },
  {
   "cell_type": "code",
   "execution_count": 118,
   "id": "toxic-foundation",
   "metadata": {},
   "outputs": [
    {
     "data": {
      "text/plain": [
       "True"
      ]
     },
     "execution_count": 118,
     "metadata": {},
     "output_type": "execute_result"
    }
   ],
   "source": [
    "cv2.imwrite('images/sample.png', image[468:585,1652:1689,:])"
   ]
  },
  {
   "cell_type": "code",
   "execution_count": 232,
   "id": "complex-volume",
   "metadata": {},
   "outputs": [],
   "source": [
    "def clean_date(d):\n",
    "    dig = '0123456789-:'; nd = '';\n",
    "    date = ' '.join(d).replace('Z', '2').replace('z', '2')\n",
    "    # print(date)\n",
    "    if date.find('-202 ') >= 0: date=date.replace('202','2022');\n",
    "    # print(date.find('-202 '))\n",
    "    # print(nd)\n",
    "    for it in date:\n",
    "        if it in dig: nd += it;\n",
    "    # print(nd)\n",
    "    nd = '2022 '.join(nd.split('2022'))\n",
    "    if len(nd) < 18: return '0';\n",
    "    # print(nd)\n",
    "    ddd = nd.split(' ')[0].split('-')\n",
    "    if len(ddd) != 3: return '0';\n",
    "    res = ddd[2]+'-'+ddd[0]+'-'+ddd[1]+' '+nd.split(' ')[1]\n",
    "    return res"
   ]
  },
  {
   "cell_type": "code",
   "execution_count": 182,
   "id": "informational-segment",
   "metadata": {},
   "outputs": [],
   "source": [
    "train = pd.read_csv('train/train.csv')\n",
    "# train"
   ]
  },
  {
   "cell_type": "code",
   "execution_count": 128,
   "id": "pressed-region",
   "metadata": {},
   "outputs": [
    {
     "data": {
      "text/plain": [
       "1260"
      ]
     },
     "execution_count": 128,
     "metadata": {},
     "output_type": "execute_result"
    }
   ],
   "source": [
    "tst = '2022-05-24 08:12:42'\n",
    "dl = train[train.date == tst]\n",
    "dl.id.item()"
   ]
  },
  {
   "cell_type": "code",
   "execution_count": null,
   "id": "satisfactory-respondent",
   "metadata": {},
   "outputs": [],
   "source": [
    "model = torch.hub.load('ultralytics/yolov5', 'yolov5l6')"
   ]
  },
  {
   "cell_type": "code",
   "execution_count": 241,
   "id": "occasional-convenience",
   "metadata": {},
   "outputs": [
    {
     "name": "stdout",
     "output_type": "stream",
     "text": [
      "0\n",
      "0\n",
      "10\n",
      "20\n",
      "30\n",
      "30\n",
      "40\n",
      "50\n",
      "50\n",
      "50\n",
      "50\n",
      "60\n",
      "70\n",
      "80\n",
      "90\n",
      "100\n",
      "110\n",
      "120\n",
      "130\n",
      "140\n",
      "140\n",
      "140\n",
      "150\n",
      "160\n",
      "160\n",
      "160\n",
      "160\n",
      "160\n",
      "160\n",
      "160\n",
      "170\n",
      "180\n",
      "190\n",
      "200\n",
      "210\n",
      "220\n",
      "230\n",
      "240\n",
      "250\n",
      "260\n",
      "270\n",
      "280\n",
      "290\n",
      "300\n",
      "310\n",
      "320\n",
      "330\n",
      "330\n",
      "330\n",
      "330\n",
      "330\n",
      "330\n",
      "330\n",
      "330\n",
      "340\n",
      "340\n",
      "340\n",
      "340\n",
      "350\n",
      "360\n",
      "370\n",
      "380\n",
      "390\n",
      "400\n",
      "410\n",
      "420\n",
      "430\n",
      "440\n",
      "450\n",
      "460\n",
      "460\n",
      "460\n",
      "460\n",
      "460\n",
      "460\n",
      "460\n",
      "460\n",
      "470\n",
      "480\n",
      "490\n",
      "500\n",
      "510\n",
      "520\n",
      "530\n",
      "540\n",
      "540\n",
      "540\n",
      "550\n",
      "560\n",
      "570\n",
      "580\n",
      "590\n",
      "600\n",
      "610\n",
      "620\n",
      "630\n",
      "640\n",
      "650\n",
      "660\n",
      "660\n",
      "660\n",
      "660\n",
      "670\n",
      "680\n",
      "690\n",
      "700\n",
      "710\n",
      "720\n",
      "720\n",
      "720\n",
      "720\n",
      "720\n",
      "720\n",
      "720\n",
      "720\n",
      "720\n",
      "720\n",
      "730\n",
      "740\n",
      "750\n",
      "760\n",
      "770\n",
      "770\n",
      "770\n",
      "770\n",
      "770\n",
      "780\n",
      "790\n",
      "790\n",
      "790\n",
      "790\n",
      "790\n",
      "790\n",
      "790\n",
      "790\n",
      "790\n",
      "790\n",
      "790\n",
      "790\n",
      "790\n",
      "790\n",
      "790\n",
      "790\n",
      "800\n",
      "810\n",
      "820\n",
      "830\n",
      "830\n",
      "830\n",
      "830\n",
      "830\n",
      "830\n",
      "830\n",
      "830\n",
      "830\n",
      "840\n",
      "850\n",
      "860\n",
      "860\n",
      "860\n",
      "860\n",
      "860\n",
      "860\n",
      "860\n",
      "860\n",
      "860\n",
      "860\n",
      "860\n",
      "860\n",
      "860\n",
      "870\n",
      "880\n",
      "880\n",
      "890\n",
      "890\n",
      "890\n",
      "890\n",
      "900\n",
      "910\n",
      "920\n",
      "930\n",
      "940\n",
      "950\n",
      "960\n",
      "960\n",
      "960\n",
      "960\n",
      "960\n",
      "960\n",
      "960\n",
      "960\n",
      "970\n",
      "980\n",
      "990\n",
      "1000\n",
      "1000\n",
      "1000\n",
      "1000\n",
      "1000\n",
      "1000\n",
      "1010\n",
      "1020\n",
      "1030\n",
      "1040\n",
      "1050\n",
      "1060\n",
      "1070\n",
      "1080\n",
      "1090\n",
      "1100\n",
      "1100\n",
      "1110\n",
      "1110\n",
      "1110\n",
      "1110\n",
      "1110\n",
      "1110\n",
      "1110\n",
      "1120\n",
      "1130\n",
      "1140\n",
      "1150\n",
      "1160\n",
      "1170\n",
      "1180\n",
      "1190\n",
      "1190\n",
      "1200\n",
      "1210\n",
      "1220\n",
      "1230\n",
      "1230\n",
      "1230\n",
      "1230\n",
      "1240\n",
      "1250\n",
      "1260\n",
      "1270\n",
      "1280\n",
      "1280\n",
      "1280\n",
      "1280\n",
      "1280\n",
      "1280\n",
      "1290\n",
      "1290\n",
      "1290\n",
      "1290\n",
      "1290\n",
      "1290\n",
      "1290\n",
      "1290\n",
      "1290\n",
      "1290\n",
      "1290\n",
      "1290\n",
      "1290\n",
      "1290\n",
      "1290\n",
      "1290\n",
      "1290\n",
      "1290\n",
      "1290\n",
      "1290\n",
      "1290\n",
      "1290\n",
      "1290\n",
      "1290\n",
      "1290\n",
      "1290\n",
      "1290\n",
      "1290\n",
      "1290\n",
      "1290\n",
      "1290\n",
      "1290\n",
      "1290\n",
      "1290\n",
      "1290\n",
      "1290\n",
      "1300\n",
      "1310\n",
      "1320\n",
      "1330\n",
      "1340\n",
      "1350\n",
      "1360\n",
      "1370\n",
      "1380\n",
      "1390\n",
      "1400\n",
      "1410\n",
      "1420\n",
      "1420\n",
      "1420\n",
      "1420\n",
      "1420\n",
      "1420\n",
      "1420\n",
      "1420\n",
      "1430\n",
      "1440\n",
      "1450\n",
      "1460\n",
      "1460\n",
      "1460\n",
      "1460\n",
      "1460\n",
      "1460\n",
      "1460\n",
      "1460\n",
      "1460\n",
      "1460\n",
      "1470\n",
      "1480\n",
      "1490\n",
      "1500\n",
      "1510\n",
      "1520\n",
      "1530\n",
      "1540\n",
      "1550\n",
      "1560\n",
      "1570\n",
      "1580\n",
      "1590\n",
      "1600\n",
      "1610\n",
      "1610\n",
      "1610\n",
      "1610\n",
      "1610\n",
      "1610\n",
      "1610\n",
      "1610\n",
      "1610\n",
      "1610\n",
      "1610\n",
      "1620\n",
      "1630\n",
      "1640\n",
      "1650\n",
      "1660\n",
      "1670\n",
      "1680\n",
      "1690\n",
      "1700\n",
      "1710\n",
      "1720\n",
      "1720\n",
      "1730\n",
      "1740\n",
      "1750\n",
      "1750\n",
      "1750\n",
      "1750\n",
      "1750\n",
      "1750\n",
      "1750\n",
      "1750\n",
      "1750\n",
      "1760\n",
      "1770\n",
      "1780\n",
      "1780\n",
      "1780\n",
      "1780\n",
      "1780\n",
      "1790\n",
      "1790\n",
      "1790\n",
      "1790\n",
      "1790\n",
      "1790\n",
      "1790\n",
      "1790\n",
      "1790\n",
      "1790\n",
      "1790\n",
      "1790\n",
      "1790\n",
      "1790\n",
      "1790\n",
      "1790\n",
      "1790\n",
      "1800\n",
      "1800\n",
      "1800\n",
      "1810\n",
      "1820\n",
      "1830\n",
      "1840\n",
      "1850\n",
      "1850\n",
      "1850\n",
      "1850\n",
      "1850\n",
      "1850\n",
      "1850\n",
      "1850\n",
      "1850\n",
      "1850\n",
      "1850\n",
      "1850\n",
      "1850\n",
      "1850\n",
      "1860\n",
      "1870\n",
      "1880\n",
      "1890\n",
      "1900\n",
      "1900\n",
      "1900\n",
      "1900\n",
      "1900\n",
      "1900\n",
      "1900\n",
      "1900\n",
      "1900\n",
      "1900\n",
      "1910\n",
      "1910\n",
      "1910\n",
      "1910\n",
      "1910\n",
      "1910\n",
      "1910\n",
      "1910\n",
      "1910\n",
      "1910\n",
      "1910\n",
      "1910\n",
      "1910\n",
      "1910\n",
      "1910\n",
      "1910\n",
      "1910\n",
      "1910\n",
      "1910\n",
      "1920\n",
      "1930\n",
      "1930\n",
      "1930\n",
      "1930\n",
      "1930\n",
      "1940\n",
      "1950\n",
      "1950\n",
      "1950\n",
      "1950\n",
      "1950\n",
      "1950\n",
      "1950\n",
      "1950\n",
      "1950\n",
      "1950\n",
      "1950\n",
      "1950\n",
      "1950\n",
      "1950\n",
      "1950\n",
      "1950\n",
      "1950\n",
      "1950\n",
      "1950\n",
      "1950\n",
      "1950\n",
      "1960\n",
      "1970\n",
      "1970\n",
      "1970\n",
      "1970\n",
      "1970\n",
      "1970\n",
      "1970\n",
      "1970\n",
      "1980\n",
      "1990\n",
      "2000\n",
      "2000\n",
      "2010\n",
      "2010\n",
      "2010\n",
      "2010\n",
      "2010\n",
      "2010\n",
      "2010\n",
      "2010\n",
      "2010\n",
      "2010\n",
      "2010\n",
      "2010\n",
      "2010\n",
      "2010\n",
      "2010\n",
      "2010\n",
      "2010\n",
      "2010\n",
      "2010\n",
      "2010\n",
      "2010\n",
      "2010\n",
      "2020\n",
      "2030\n",
      "2040\n",
      "2040\n",
      "2040\n",
      "2040\n",
      "2040\n",
      "2040\n",
      "2040\n",
      "2040\n",
      "2040\n",
      "2040\n",
      "2040\n",
      "2040\n",
      "2040\n",
      "2040\n",
      "2040\n",
      "2040\n",
      "2040\n",
      "2040\n",
      "2040\n",
      "2040\n",
      "2050\n",
      "2060\n",
      "2060\n",
      "2060\n",
      "2060\n",
      "2060\n",
      "2060\n",
      "2060\n",
      "2060\n",
      "2060\n",
      "2060\n",
      "2060\n",
      "2060\n",
      "2060\n",
      "2060\n",
      "2060\n",
      "2060\n",
      "2060\n",
      "2060\n",
      "2060\n",
      "2060\n",
      "2060\n",
      "2060\n",
      "2060\n",
      "2060\n",
      "2060\n",
      "2060\n",
      "2070\n",
      "2080\n",
      "2090\n",
      "2100\n",
      "2110\n",
      "2120\n",
      "2130\n",
      "2130\n",
      "2130\n",
      "2130\n",
      "2140\n",
      "2140\n",
      "2140\n",
      "2140\n",
      "2140\n",
      "2140\n",
      "2140\n",
      "2150\n",
      "2160\n",
      "2170\n",
      "2180\n",
      "2190\n",
      "2200\n",
      "2210\n",
      "2220\n",
      "2230\n",
      "2240\n",
      "2250\n",
      "2260\n",
      "2270\n",
      "2280\n",
      "2290\n",
      "2300\n",
      "2310\n",
      "2320\n",
      "2320\n",
      "2330\n",
      "2340\n",
      "2340\n",
      "2350\n",
      "2350\n",
      "2360\n",
      "2370\n",
      "2380\n",
      "2390\n",
      "2400\n",
      "2400\n",
      "2400\n",
      "2400\n",
      "2400\n",
      "2400\n",
      "2400\n",
      "2400\n",
      "2410\n",
      "2420\n",
      "2430\n",
      "2440\n",
      "2450\n",
      "2450\n",
      "2450\n",
      "2450\n",
      "2450\n",
      "2450\n",
      "2460\n",
      "2470\n",
      "2470\n",
      "2470\n",
      "2470\n",
      "2470\n",
      "2470\n",
      "2480\n",
      "2490\n",
      "2500\n",
      "2500\n",
      "2500\n",
      "2500\n",
      "2500\n",
      "2510\n",
      "2520\n",
      "2530\n",
      "2530\n",
      "2540\n",
      "2550\n",
      "2560\n",
      "2570\n",
      "2580\n",
      "2590\n",
      "2600\n",
      "2610\n",
      "2620\n",
      "2630\n",
      "2640\n",
      "2650\n",
      "2660\n",
      "2670\n",
      "2680\n",
      "2690\n",
      "2700\n",
      "2700\n",
      "2700\n",
      "2700\n",
      "2700\n",
      "2700\n",
      "2700\n",
      "2700\n",
      "2700\n",
      "2700\n",
      "2700\n",
      "2700\n",
      "2700\n",
      "2700\n",
      "2700\n",
      "2700\n",
      "2700\n",
      "2700\n",
      "2700\n",
      "2700\n",
      "2700\n",
      "2700\n",
      "2700\n",
      "2700\n",
      "2700\n",
      "2700\n",
      "2700\n",
      "2710\n",
      "2720\n",
      "2720\n",
      "2720\n",
      "2720\n",
      "2720\n",
      "2720\n",
      "2720\n",
      "2720\n",
      "2720\n",
      "2720\n",
      "2720\n",
      "2720\n",
      "2720\n",
      "2720\n",
      "2720\n",
      "2720\n",
      "2720\n",
      "2720\n",
      "2720\n",
      "2720\n",
      "2720\n",
      "2720\n",
      "2720\n",
      "2730\n",
      "2740\n",
      "2750\n",
      "2750\n",
      "2750\n",
      "2750\n",
      "2750\n",
      "2750\n",
      "2750\n",
      "2750\n",
      "2750\n",
      "2760\n",
      "2770\n",
      "2780\n",
      "2790\n",
      "2800\n",
      "2810\n",
      "2820\n",
      "2830\n",
      "2840\n",
      "2850\n",
      "2860\n",
      "2860\n",
      "2860\n",
      "2860\n",
      "2860\n",
      "2860\n",
      "2870\n",
      "2880\n",
      "2890\n",
      "2890\n",
      "2890\n",
      "2900\n",
      "2910\n",
      "2920\n",
      "2930\n",
      "2940\n",
      "2950\n",
      "2960\n",
      "2960\n",
      "2960\n",
      "2960\n",
      "2960\n",
      "2960\n",
      "2970\n",
      "2970\n",
      "2980\n",
      "2990\n",
      "3000\n",
      "3010\n",
      "3020\n",
      "3030\n",
      "3040\n",
      "3040\n",
      "3040\n",
      "3040\n",
      "3040\n",
      "3040\n",
      "3040\n",
      "3040\n",
      "3040\n",
      "3040\n",
      "3050\n",
      "3060\n",
      "3070\n",
      "3080\n",
      "3090\n",
      "3100\n",
      "3110\n",
      "3120\n",
      "3130\n",
      "3130\n",
      "3130\n",
      "3130\n",
      "3130\n",
      "3130\n",
      "3130\n",
      "3130\n",
      "3130\n",
      "3130\n",
      "3130\n",
      "3130\n",
      "3130\n",
      "3130\n",
      "3130\n",
      "3130\n",
      "3140\n",
      "3150\n",
      "3160\n",
      "3170\n",
      "3180\n",
      "3190\n",
      "3200\n",
      "3210\n",
      "3220\n",
      "3230\n",
      "3230\n",
      "3230\n",
      "3230\n",
      "3230\n",
      "3230\n",
      "3230\n",
      "3230\n",
      "3240\n",
      "3250\n",
      "3260\n",
      "3270\n",
      "3280\n",
      "3290\n",
      "3290\n",
      "3290\n",
      "3290\n",
      "3290\n",
      "3290\n",
      "3290\n",
      "3290\n",
      "3290\n",
      "3290\n",
      "3290\n",
      "3290\n",
      "3300\n",
      "3300\n",
      "3300\n",
      "3300\n",
      "3300\n",
      "3310\n",
      "3320\n",
      "3330\n",
      "3340\n",
      "3340\n",
      "3340\n",
      "3340\n",
      "3340\n",
      "3350\n",
      "3350\n",
      "3350\n",
      "3350\n",
      "3350\n",
      "3360\n",
      "3370\n",
      "3380\n",
      "3390\n",
      "3400\n",
      "3410\n",
      "3420\n",
      "3430\n",
      "3440\n",
      "3450\n",
      "3460\n",
      "3470\n",
      "3480\n",
      "3480\n",
      "3480\n",
      "3480\n",
      "3480\n",
      "3480\n",
      "3480\n",
      "3490\n",
      "3500\n",
      "3510\n",
      "3520\n",
      "3530\n",
      "3540\n",
      "3550\n",
      "3560\n",
      "3570\n",
      "3570\n",
      "3570\n",
      "3570\n",
      "3570\n",
      "3570\n",
      "3570\n",
      "3570\n",
      "3570\n",
      "3570\n",
      "3570\n",
      "3570\n",
      "3570\n",
      "3570\n",
      "3570\n",
      "3570\n",
      "3580\n",
      "3590\n",
      "3600\n",
      "3600\n",
      "3600\n",
      "3600\n",
      "3600\n",
      "3600\n",
      "3610\n",
      "3620\n",
      "3630\n",
      "3640\n",
      "3650\n",
      "3660\n",
      "3670\n",
      "3680\n",
      "3690\n",
      "3700\n",
      "3710\n",
      "3720\n",
      "3730\n",
      "3740\n",
      "3750\n",
      "3750\n",
      "3760\n",
      "3770\n",
      "3780\n",
      "3790\n",
      "3800\n",
      "3810\n",
      "3820\n",
      "3830\n",
      "3840\n",
      "3840\n",
      "3840\n",
      "3840\n",
      "3840\n",
      "3840\n",
      "3840\n",
      "3850\n",
      "3860\n",
      "3870\n",
      "3880\n",
      "3890\n",
      "3900\n",
      "3910\n",
      "3920\n",
      "3920\n",
      "3920\n",
      "3920\n",
      "3930\n",
      "3940\n",
      "3950\n",
      "3960\n",
      "3970\n",
      "3970\n",
      "3970\n",
      "3970\n",
      "3970\n",
      "3970\n",
      "3980\n",
      "3990\n",
      "4000\n",
      "4010\n",
      "4020\n",
      "4030\n",
      "4030\n",
      "4030\n",
      "4030\n",
      "4030\n",
      "4030\n",
      "4030\n",
      "4040\n",
      "4050\n",
      "4060\n",
      "4070\n",
      "4080\n",
      "4090\n",
      "4100\n",
      "4110\n",
      "4120\n",
      "4130\n",
      "4140\n",
      "4150\n",
      "4160\n",
      "4170\n",
      "4180\n",
      "4190\n",
      "4200\n",
      "4200\n",
      "4200\n",
      "4200\n",
      "4200\n",
      "4200\n",
      "4200\n",
      "4200\n",
      "4200\n",
      "4210\n",
      "4210\n",
      "4210\n",
      "4210\n",
      "4210\n",
      "4210\n",
      "4210\n",
      "4210\n",
      "4210\n",
      "4220\n",
      "4230\n",
      "4230\n",
      "4230\n",
      "4230\n",
      "4230\n",
      "4230\n",
      "4230\n",
      "4230\n",
      "4230\n",
      "4230\n",
      "4230\n",
      "4230\n",
      "4230\n",
      "4230\n",
      "4230\n",
      "4230\n",
      "4230\n",
      "4230\n",
      "4240\n",
      "4250\n",
      "4260\n",
      "4270\n",
      "4280\n",
      "4280\n",
      "4280\n",
      "4280\n",
      "4280\n",
      "4280\n",
      "4280\n",
      "4280\n",
      "4280\n",
      "4280\n",
      "4290\n",
      "4300\n",
      "4310\n",
      "4310\n",
      "4310\n",
      "4310\n",
      "4310\n",
      "4310\n",
      "4310\n",
      "4320\n",
      "4330\n",
      "4330\n",
      "4330\n",
      "4330\n",
      "4330\n",
      "4330\n",
      "4330\n",
      "4330\n",
      "4330\n",
      "4340\n",
      "4350\n",
      "4360\n",
      "4370\n",
      "4380\n",
      "4390\n",
      "4400\n",
      "4410\n",
      "4420\n",
      "4430\n",
      "4440\n",
      "4450\n",
      "4450\n",
      "4450\n",
      "4450\n",
      "4450\n",
      "4450\n",
      "4450\n",
      "4450\n",
      "4450\n",
      "4450\n",
      "4450\n",
      "4450\n",
      "4450\n",
      "4450\n",
      "4450\n",
      "4450\n",
      "end of file\n"
     ]
    }
   ],
   "source": [
    "video = cv2.VideoCapture(\"train/train2.avi\")\n",
    "fps = video.get(cv2.CAP_PROP_FPS)\n",
    "fr = 0\n",
    "old_date = ''; imcount = 0;\n",
    "many = []\n",
    "while True:\n",
    "    ret, frame = video.read()\n",
    "    if not ret:\n",
    "        print(\"end of file\")\n",
    "        break\n",
    "    fr += 1\n",
    "    if fr % 5 != 0: continue;\n",
    "        \n",
    "    h, w, c = frame.shape\n",
    "    date_img = frame[h//20:h//9,:w//3,:]\n",
    "    date = reader.readtext(date_img, detail=0)\n",
    "    # print(date)\n",
    "    date = clean_date(date)\n",
    "    if date == '0': continue;\n",
    "    if old_date != date:\n",
    "        old_date = date\n",
    "        # print('new',date)\n",
    "    \n",
    "    df = train[train.date == date]\n",
    "    if len(df) > 0:\n",
    "        if len(df) > 1:\n",
    "            # print('many')\n",
    "            many.append(df)\n",
    "            continue;\n",
    "        idx = df.id.item()\n",
    "        label = df.employee.item()\n",
    "    else:\n",
    "        # print('none')\n",
    "        continue\n",
    "#    print(idx)\n",
    "    image = frame.copy()\n",
    "    df = model(frame).pandas().xyxy[0]\n",
    "\n",
    "    if len(df[df['name'] == 'person']) > 0:\n",
    "        for item in df[df['name'] == 'person'].values:\n",
    "            xmin = int(item[0])\n",
    "            xmax = int(item[2])\n",
    "            ymin = int(item[1])\n",
    "            ymax = int(item[3])\n",
    "            cv2.imwrite(f'images/{label}/{idx}.png', image[ymin:ymax,xmin:xmax,:])\n",
    "        imcount += 1\n",
    "    if imcount % 10 == 0:\n",
    "        print(imcount)"
   ]
  },
  {
   "cell_type": "code",
   "execution_count": 231,
   "id": "lightweight-belgium",
   "metadata": {},
   "outputs": [
    {
     "data": {
      "text/plain": [
       "['05-25-ZOZZ Ied']"
      ]
     },
     "execution_count": 231,
     "metadata": {},
     "output_type": "execute_result"
    }
   ],
   "source": [
    "# date = '2022-05-24 08:08:36'\n",
    "date"
   ]
  },
  {
   "cell_type": "code",
   "execution_count": null,
   "id": "patent-locator",
   "metadata": {},
   "outputs": [],
   "source": [
    "'2022-05-24 08:08:36'"
   ]
  },
  {
   "cell_type": "code",
   "execution_count": 173,
   "id": "local-setup",
   "metadata": {},
   "outputs": [
    {
     "data": {
      "text/html": [
       "<div>\n",
       "<style scoped>\n",
       "    .dataframe tbody tr th:only-of-type {\n",
       "        vertical-align: middle;\n",
       "    }\n",
       "\n",
       "    .dataframe tbody tr th {\n",
       "        vertical-align: top;\n",
       "    }\n",
       "\n",
       "    .dataframe thead th {\n",
       "        text-align: right;\n",
       "    }\n",
       "</style>\n",
       "<table border=\"1\" class=\"dataframe\">\n",
       "  <thead>\n",
       "    <tr style=\"text-align: right;\">\n",
       "      <th></th>\n",
       "      <th>id</th>\n",
       "      <th>date</th>\n",
       "      <th>employee</th>\n",
       "      <th>action</th>\n",
       "    </tr>\n",
       "  </thead>\n",
       "  <tbody>\n",
       "    <tr>\n",
       "      <th>31</th>\n",
       "      <td>1287</td>\n",
       "      <td>2022-05-24 08:56:20</td>\n",
       "      <td>3</td>\n",
       "      <td>12.0</td>\n",
       "    </tr>\n",
       "  </tbody>\n",
       "</table>\n",
       "</div>"
      ],
      "text/plain": [
       "      id                 date  employee  action\n",
       "31  1287  2022-05-24 08:56:20         3    12.0"
      ]
     },
     "execution_count": 173,
     "metadata": {},
     "output_type": "execute_result"
    }
   ],
   "source": [
    "train[train.date == date]"
   ]
  },
  {
   "cell_type": "code",
   "execution_count": 176,
   "id": "sapphire-blues",
   "metadata": {},
   "outputs": [
    {
     "data": {
      "text/html": [
       "<div>\n",
       "<style scoped>\n",
       "    .dataframe tbody tr th:only-of-type {\n",
       "        vertical-align: middle;\n",
       "    }\n",
       "\n",
       "    .dataframe tbody tr th {\n",
       "        vertical-align: top;\n",
       "    }\n",
       "\n",
       "    .dataframe thead th {\n",
       "        text-align: right;\n",
       "    }\n",
       "</style>\n",
       "<table border=\"1\" class=\"dataframe\">\n",
       "  <thead>\n",
       "    <tr style=\"text-align: right;\">\n",
       "      <th></th>\n",
       "      <th>id</th>\n",
       "      <th>date</th>\n",
       "      <th>employee</th>\n",
       "      <th>action</th>\n",
       "    </tr>\n",
       "  </thead>\n",
       "  <tbody>\n",
       "    <tr>\n",
       "      <th>65</th>\n",
       "      <td>1321</td>\n",
       "      <td>2022-05-24 09:34:59</td>\n",
       "      <td>6</td>\n",
       "      <td>5.0</td>\n",
       "    </tr>\n",
       "    <tr>\n",
       "      <th>66</th>\n",
       "      <td>1322</td>\n",
       "      <td>2022-05-24 09:34:59</td>\n",
       "      <td>5</td>\n",
       "      <td>14.0</td>\n",
       "    </tr>\n",
       "  </tbody>\n",
       "</table>\n",
       "</div>"
      ],
      "text/plain": [
       "      id                 date  employee  action\n",
       "65  1321  2022-05-24 09:34:59         6     5.0\n",
       "66  1322  2022-05-24 09:34:59         5    14.0"
      ]
     },
     "execution_count": 176,
     "metadata": {},
     "output_type": "execute_result"
    }
   ],
   "source": [
    "df"
   ]
  },
  {
   "cell_type": "code",
   "execution_count": 180,
   "id": "buried-health",
   "metadata": {},
   "outputs": [
    {
     "data": {
      "text/plain": [
       "<matplotlib.image.AxesImage at 0x7f8acace9fa0>"
      ]
     },
     "execution_count": 180,
     "metadata": {},
     "output_type": "execute_result"
    },
    {
     "data": {
      "image/png": "[encoded data removed]",
      "text/plain": [
       "<Figure size 432x288 with 1 Axes>"
      ]
     },
     "metadata": {
      "needs_background": "light"
     },
     "output_type": "display_data"
    }
   ],
   "source": [
    "plt.imshow(cv2.cvtColor(date_img, cv2.COLOR_BGR2RGB))"
   ]
  },
  {
   "cell_type": "code",
   "execution_count": 181,
   "id": "quarterly-vancouver",
   "metadata": {},
   "outputs": [
    {
     "data": {
      "text/plain": [
       "['05-24-Z02', 'Tue 16:31:08']"
      ]
     },
     "execution_count": 181,
     "metadata": {},
     "output_type": "execute_result"
    }
   ],
   "source": [
    "reader.readtext(date_img, detail=0)"
   ]
  },
  {
   "cell_type": "code",
   "execution_count": 189,
   "id": "adjacent-latino",
   "metadata": {},
   "outputs": [],
   "source": [
    "dd = '05-24-Z022 Tue 08:08:34'"
   ]
  },
  {
   "cell_type": "code",
   "execution_count": 226,
   "id": "spanish-performer",
   "metadata": {},
   "outputs": [
    {
     "data": {
      "text/plain": [
       "'2022-05-24 16:31:08'"
      ]
     },
     "execution_count": 226,
     "metadata": {},
     "output_type": "execute_result"
    }
   ],
   "source": [
    "clean_date(date)"
   ]
  },
  {
   "cell_type": "code",
   "execution_count": 203,
   "id": "classified-documentation",
   "metadata": {},
   "outputs": [],
   "source": [
    "dig = '0123456789-:'; nd = '';\n",
    "d = ' '.join(date).replace('Z', '2')\n",
    "\n",
    "# if date.find('-202 ') >= 0: nd=nd.replace('202','2022')    \n",
    "# for it in date:\n",
    "#     if it in dig: nd += it;\n",
    "\n",
    "# nd = '2022 '.join(nd.split('2022'))\n",
    "# ddd = nd.split(' ')[0].split('-')\n",
    "# res = ddd[2]+'-'+ddd[0]+'-'+ddd[1]+' '+nd.split(' ')[1]"
   ]
  },
  {
   "cell_type": "code",
   "execution_count": 204,
   "id": "serious-cradle",
   "metadata": {},
   "outputs": [
    {
     "data": {
      "text/plain": [
       "'05-24-202 Tue 16:31:08'"
      ]
     },
     "execution_count": 204,
     "metadata": {},
     "output_type": "execute_result"
    }
   ],
   "source": [
    "d"
   ]
  },
  {
   "cell_type": "code",
   "execution_count": 205,
   "id": "interpreted-ridge",
   "metadata": {},
   "outputs": [
    {
     "data": {
      "text/plain": [
       "5"
      ]
     },
     "execution_count": 205,
     "metadata": {},
     "output_type": "execute_result"
    }
   ],
   "source": [
    "d.find('-202')"
   ]
  },
  {
   "cell_type": "code",
   "execution_count": 206,
   "id": "valued-reality",
   "metadata": {},
   "outputs": [
    {
     "data": {
      "text/plain": [
       "'05-24-2022 Tue 16:31:08'"
      ]
     },
     "execution_count": 206,
     "metadata": {},
     "output_type": "execute_result"
    }
   ],
   "source": [
    "d=d.replace('202','2022')\n",
    "d"
   ]
  },
  {
   "cell_type": "code",
   "execution_count": 207,
   "id": "public-pharmaceutical",
   "metadata": {},
   "outputs": [],
   "source": [
    "nd = ''\n",
    "for it in d:\n",
    "    if it in dig: nd += it;"
   ]
  },
  {
   "cell_type": "code",
   "execution_count": 208,
   "id": "hawaiian-silicon",
   "metadata": {},
   "outputs": [
    {
     "data": {
      "text/plain": [
       "'05-24-202216:31:08'"
      ]
     },
     "execution_count": 208,
     "metadata": {},
     "output_type": "execute_result"
    }
   ],
   "source": [
    "nd"
   ]
  },
  {
   "cell_type": "code",
   "execution_count": 209,
   "id": "foreign-houston",
   "metadata": {},
   "outputs": [
    {
     "data": {
      "text/plain": [
       "'05-24-2022 16:31:08'"
      ]
     },
     "execution_count": 209,
     "metadata": {},
     "output_type": "execute_result"
    }
   ],
   "source": [
    "nd = '2022 '.join(nd.split('2022'))\n",
    "nd"
   ]
  },
  {
   "cell_type": "code",
   "execution_count": 210,
   "id": "intelligent-nevada",
   "metadata": {},
   "outputs": [
    {
     "data": {
      "text/plain": [
       "['05', '24', '2022']"
      ]
     },
     "execution_count": 210,
     "metadata": {},
     "output_type": "execute_result"
    }
   ],
   "source": [
    "ddd = nd.split(' ')[0].split('-')\n",
    "ddd"
   ]
  },
  {
   "cell_type": "code",
   "execution_count": null,
   "id": "corrected-collection",
   "metadata": {},
   "outputs": [],
   "source": []
  }
 ],
 "metadata": {
  "kernelspec": {
   "display_name": "Python 3",
   "language": "python",
   "name": "python3"
  },
  "language_info": {
   "codemirror_mode": {
    "name": "ipython",
    "version": 3
   },
   "file_extension": ".py",
   "mimetype": "text/x-python",
   "name": "python",
   "nbconvert_exporter": "python",
   "pygments_lexer": "ipython3",
   "version": "3.9.2"
  }
 },
 "nbformat": 4,
 "nbformat_minor": 5
}
